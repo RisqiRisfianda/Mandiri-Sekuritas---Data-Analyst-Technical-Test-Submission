{
  "cells": [
    {
      "cell_type": "code",
      "execution_count": null,
      "metadata": {
        "id": "BBNoAHG5Q7eM"
      },
      "outputs": [],
      "source": [
        "# Google colab authenticator\n",
        "!pip install\n",
        "from google.colab import auth\n",
        "auth.authenticate_user()"
      ]
    },
    {
      "cell_type": "code",
      "execution_count": 3,
      "metadata": {
        "id": "q944nA_vERlF"
      },
      "outputs": [],
      "source": [
        "# Access to BigQuery\n",
        "from google.cloud import bigquery\n",
        "client = bigquery.Client()"
      ]
    },
    {
      "cell_type": "code",
      "execution_count": null,
      "metadata": {
        "id": "Yn81YTVhSA0d"
      },
      "outputs": [],
      "source": [
        "# Upload table/csv to colab drive\n",
        "from google.colab import files\n",
        "uploaded = files.upload()"
      ]
    },
    {
      "cell_type": "code",
      "execution_count": null,
      "metadata": {
        "id": "Cd-5jM1SEwDe"
      },
      "outputs": [],
      "source": [
        "# Read csv file from colab drive\n",
        "import pandas as pd\n",
        "df = pd.read_csv(\"/content/users_data.csv\")\n",
        "df"
      ]
    },
    {
      "cell_type": "code",
      "execution_count": null,
      "metadata": {
        "id": "jTpGFY0JEX7U"
      },
      "outputs": [],
      "source": [
        "# Import table to BigQuery Dataset\n",
        "df.to_gbq(destination_table=\"your_dataset_name.your_table_name\", project_id=\"your_project_name\", if_exists='replace')"
      ]
    }
  ],
  "metadata": {
    "colab": {
      "provenance": []
    },
    "kernelspec": {
      "display_name": "Python 3",
      "name": "python3"
    },
    "language_info": {
      "name": "python"
    }
  },
  "nbformat": 4,
  "nbformat_minor": 0
}